{
 "cells": [
  {
   "cell_type": "code",
   "execution_count": 1,
   "id": "a85e8465-6765-4b6c-a8c5-1f55d64d93c3",
   "metadata": {},
   "outputs": [],
   "source": [
    "import pandas as pd\n",
    "import numpy as np"
   ]
  },
  {
   "cell_type": "code",
   "execution_count": 33,
   "id": "e7a981bf-12aa-448b-a982-c15ff11ff96d",
   "metadata": {},
   "outputs": [],
   "source": [
    "new_row = [119.992,157.302,74.997,0.00784,0.00007,0.0037,0.00554,0.01109,0.04374,0.426,0.02182,0.0313,0.02971,0.06545,0.02211,21.033,0.414783,\t0.815285\t-4.813031\t0.266482\t2.301442\t0.284654\n",
    "]"
   ]
  },
  {
   "cell_type": "code",
   "execution_count": 43,
   "id": "e5e33396-00d3-4241-ad31-31305b25db56",
   "metadata": {},
   "outputs": [],
   "source": [
    "model = pickle.load(open('new_model.pkl','rb'))"
   ]
  },
  {
   "cell_type": "code",
   "execution_count": 44,
   "id": "0d1b3dc2-7143-4347-b8c0-d40a5aaa37c7",
   "metadata": {},
   "outputs": [
    {
     "data": {
      "text/plain": [
       "array([1], dtype=int64)"
      ]
     },
     "execution_count": 44,
     "metadata": {},
     "output_type": "execute_result"
    }
   ],
   "source": [
    "model.predict([new_row])"
   ]
  },
  {
   "cell_type": "code",
   "execution_count": null,
   "id": "3167101d-fb37-40c9-bb6d-e94df3fcd0e1",
   "metadata": {},
   "outputs": [],
   "source": []
  },
  {
   "cell_type": "code",
   "execution_count": null,
   "id": "c5812e23-6dcf-4465-815b-d42e70ae3e32",
   "metadata": {},
   "outputs": [],
   "source": []
  }
 ],
 "metadata": {
  "kernelspec": {
   "display_name": "Python 3 (ipykernel)",
   "language": "python",
   "name": "python3"
  },
  "language_info": {
   "codemirror_mode": {
    "name": "ipython",
    "version": 3
   },
   "file_extension": ".py",
   "mimetype": "text/x-python",
   "name": "python",
   "nbconvert_exporter": "python",
   "pygments_lexer": "ipython3",
   "version": "3.10.0"
  }
 },
 "nbformat": 4,
 "nbformat_minor": 5
}
